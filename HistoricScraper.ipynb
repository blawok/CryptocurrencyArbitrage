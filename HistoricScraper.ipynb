{
 "cells": [
  {
   "cell_type": "code",
   "execution_count": 2,
   "metadata": {},
   "outputs": [],
   "source": [
    "import pandas as pd\n",
    "from selenium import webdriver \n",
    "from selenium.webdriver.common.by import By \n",
    "from selenium.webdriver.support.ui import WebDriverWait \n",
    "from selenium.webdriver.support import expected_conditions as EC \n",
    "from selenium.common.exceptions import TimeoutException"
   ]
  },
  {
   "cell_type": "code",
   "execution_count": 111,
   "metadata": {},
   "outputs": [],
   "source": [
    "def striplist(list):\n",
    "    return([x.replace(' ', '') for x in list])"
   ]
  },
  {
   "cell_type": "code",
   "execution_count": 3,
   "metadata": {},
   "outputs": [],
   "source": [
    "def startDriver(file_path):\n",
    "    option = webdriver.ChromeOptions()\n",
    "    option.add_argument(\" — incognito\")\n",
    "    browser = webdriver.Chrome(executable_path=file_path)\n",
    "    browser.get(\"https://coinmarketcap.com/exchanges/bitmax/\")\n",
    "    return browser"
   ]
  },
  {
   "cell_type": "code",
   "execution_count": 4,
   "metadata": {},
   "outputs": [],
   "source": [
    "browser = startDriver(\"C:\\\\Users\\\\Michał\\\\GIT\\\\CryptocurrencyArbitrage\\\\chromedriver.exe\")"
   ]
  },
  {
   "cell_type": "code",
   "execution_count": 19,
   "metadata": {},
   "outputs": [],
   "source": [
    "urls = []\n",
    "infos = browser.find_elements_by_class_name('margin-left--lv1')\n",
    "for url in infos:\n",
    "    urls.append(url.get_attribute(\"href\") + \"historical-data\")"
   ]
  },
  {
   "cell_type": "code",
   "execution_count": 20,
   "metadata": {},
   "outputs": [],
   "source": [
    "one_url = urls[1]\n",
    "browser.get(one_url)"
   ]
  },
  {
   "cell_type": "code",
   "execution_count": 125,
   "metadata": {},
   "outputs": [
    {
     "name": "stdout",
     "output_type": "stream",
     "text": [
      "Wall time: 3.85 s\n"
     ]
    }
   ],
   "source": [
    "exchange_lists = []\n",
    "curr_tab = browser.find_elements_by_xpath('//table[@class=\"table\"]//tr') \n",
    "exchange_lists = [(td.text for td in tr.find_elements_by_xpath(\".//*[self::td or self::th]\")) for tr in curr_tab]\n",
    "df = pd.DataFrame(exchange_lists)\n",
    "df.columns = df.iloc[0]\n",
    "df = df.reindex(df.index.drop(0))\n",
    "df.sort_index(inplace = True, ascending = False)\n",
    "\n",
    "high_price = striplist(list(df.iloc[:,2].transpose()))\n",
    "volume = striplist(list(df.iloc[:,5].transpose()))"
   ]
  },
  {
   "cell_type": "code",
   "execution_count": 118,
   "metadata": {},
   "outputs": [],
   "source": [
    "def currHistory():\n",
    "    exchange_lists = []\n",
    "    curr_tab = browser.find_elements_by_xpath('//table[@class=\"table\"]//tr') \n",
    "    exchange_lists = [(td.text for td in tr.find_elements_by_xpath(\".//*[self::td or self::th]\")) for tr in curr_tab]\n",
    "    df = pd.DataFrame(exchange_lists)\n",
    "    df.columns = df.iloc[0]\n",
    "    df = df.reindex(df.index.drop(0))\n",
    "    df.sort_index(inplace = True, ascending = False)\n",
    "\n",
    "    high_price = striplist(list(df.iloc[:,2].transpose()))\n",
    "    volume = striplist(list(df.iloc[:,5].transpose()))"
   ]
  },
  {
   "cell_type": "code",
   "execution_count": null,
   "metadata": {},
   "outputs": [],
   "source": []
  }
 ],
 "metadata": {
  "kernelspec": {
   "display_name": "Python 3",
   "language": "python",
   "name": "python3"
  },
  "language_info": {
   "codemirror_mode": {
    "name": "ipython",
    "version": 3
   },
   "file_extension": ".py",
   "mimetype": "text/x-python",
   "name": "python",
   "nbconvert_exporter": "python",
   "pygments_lexer": "ipython3",
   "version": "3.7.2"
  }
 },
 "nbformat": 4,
 "nbformat_minor": 2
}
