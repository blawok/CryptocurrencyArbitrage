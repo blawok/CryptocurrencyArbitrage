{
 "cells": [
  {
   "cell_type": "code",
   "execution_count": 31,
   "metadata": {},
   "outputs": [],
   "source": [
    "import pandas as pd\n",
    "from selenium import webdriver \n",
    "from selenium.webdriver.common.by import By \n",
    "from selenium.webdriver.support.ui import WebDriverWait \n",
    "from selenium.webdriver.support import expected_conditions as EC \n",
    "from selenium.common.exceptions import TimeoutException\n",
    "from multiprocessing.dummy import Pool as ThreadPool\n",
    "import itertools\n",
    "import time"
   ]
  },
  {
   "cell_type": "code",
   "execution_count": 32,
   "metadata": {},
   "outputs": [],
   "source": [
    "def striplist(list):\n",
    "    return([x.replace(' ', '') for x in list])"
   ]
  },
  {
   "cell_type": "code",
   "execution_count": 35,
   "metadata": {},
   "outputs": [],
   "source": [
    "def startDriver(file_path):\n",
    "    option = webdriver.ChromeOptions()\n",
    "    option.add_argument(\" — incognito\")\n",
    "    browser = webdriver.Chrome(executable_path=file_path)\n",
    "    browser.get(\"https://coinmarketcap.com/exchanges/bitmax/\")\n",
    "    return browser"
   ]
  },
  {
   "cell_type": "code",
   "execution_count": 36,
   "metadata": {},
   "outputs": [],
   "source": [
    "def getUrls(browser):\n",
    "    \"\"\"\n",
    "    Tworzy listę urli, które prowadzą do tabeli z historycznymi danymi\n",
    "    dla każdej waluty.\n",
    "    \"\"\"\n",
    "    urls = []\n",
    "    infos = browser.find_elements_by_class_name('margin-left--lv1')\n",
    "    urls = [(url.get_attribute(\"href\") + \"historical-data\") for url in infos]\n",
    "    return urls"
   ]
  },
  {
   "cell_type": "code",
   "execution_count": null,
   "metadata": {},
   "outputs": [],
   "source": [
    "def currHistory(browser, url):\n",
    "    \"\"\"\n",
    "    Ustawia przeglądarke na danym url'u, następnie czeka 5 sekund,\n",
    "    żeby wszystko się wczytało. Potem znajduje wszystkie wiersze w tabeli i\n",
    "    tworzy listę wybranych wartości dla każdego wiersza (też listy) - lista w liście.\n",
    "    Potem zamienia to na dataframe, usuwa stringowy wiersz z tytułami kolumn,\n",
    "    reindexuje od nowa i sortuje od najstarszej daty do najnowszej.\n",
    "    Na koniec wyciągam kolumnę High price i tworzę z niej listę\n",
    "    (od najstarszej wartości 30dni temu do dzisiejszej). Tak samo z volume.\n",
    "    \n",
    "    Problem w tym, że coinmarketcap co jakiś czas się wypierdala podczas tego,\n",
    "    po to jest ustawiony time.sleep(5), ale to też nie zawsze działa \n",
    "    - czasem nie zescrappuje tabeli i wyjebuje na df.iloc[0],\n",
    "    bo nie ma żadnego wiersza.\n",
    "    \"\"\"\n",
    "    browser.get(url)\n",
    "    time.sleep(5)\n",
    "    exchange_lists = []\n",
    "    curr_tab = browser.find_elements_by_xpath('//table[@class=\"table\"]//tr')\n",
    "    exchange_lists = [(td.text for td in tr.find_elements_by_xpath(\".//*[self::td or self::th]\")) for tr in curr_tab]\n",
    "    df = pd.DataFrame(exchange_lists)\n",
    "    df.columns = df.iloc[0]\n",
    "    df = df.reindex(df.index.drop(0))\n",
    "    df.sort_index(inplace = True, ascending = False)\n",
    "\n",
    "    high_price = striplist(list(df.iloc[:,2].transpose()))\n",
    "    volume = striplist(list(df.iloc[:,5].transpose()))\n",
    "    return high_price, volume"
   ]
  },
  {
   "cell_type": "code",
   "execution_count": null,
   "metadata": {},
   "outputs": [],
   "source": [
    "def historyToDataFrames(browser, urls):\n",
    "    \"\"\"\n",
    "    Dla każdego url'a z historią waluty wykonuje funkcje currHistory(),\n",
    "    a potem z tego tworzy DataFrame (jeden z cenami, drugi z volume).\n",
    "    \n",
    "    Czasem nie działa przez ten problem z currHistory().\n",
    "    \"\"\"\n",
    "    prices = []\n",
    "    volumes = []\n",
    "    for url in urls:\n",
    "#         print(url)\n",
    "        price, volume = currHistory(browser, url)\n",
    "        prices.append(price)\n",
    "        volumes.append(volume)\n",
    "    df_prices = pd.DataFrame(prices)\n",
    "    df_volumes = pd.DataFrame(volumes)\n",
    "    return df_prices, df_volumes\n"
   ]
  },
  {
   "cell_type": "markdown",
   "metadata": {},
   "source": [
    "### TESTOWE DLA 3 WATKOW - ni chuj nie dziala"
   ]
  },
  {
   "cell_type": "code",
   "execution_count": 7,
   "metadata": {},
   "outputs": [],
   "source": [
    "# def parts(number, n):\n",
    "#     for i in range(0, n-1):\n",
    "#         newn = int(number / n + 0.5)\n",
    "#         yield newn\n",
    "#     yield number - (n-1)*newn\n",
    "\n",
    "\n",
    "# def chunks(l, n):\n",
    "#     newn = int(1.0 * len(l) / n + 0.5)\n",
    "#     for i in range(0, n-1):\n",
    "#         yield l[i*newn:i*newn+newn]\n",
    "#     yield l[n*newn-newn:]\n",
    "\n",
    "\n",
    "# lista = 3 * [\"C:\\\\chromedriver.exe\"]\n",
    "\n",
    "\n",
    "# pool = ThreadPool(3)\n",
    "# [browser1, browser2, browser3] = pool.map(startDriver, lista)\n",
    "# browsers = [browser1, browser2, browser3]\n",
    "# pool.close()\n",
    "# pool.join()\n",
    "\n",
    "\n",
    "# urls = []\n",
    "# infos = browser1.find_elements_by_class_name('margin-left--lv1')\n",
    "# urls = [(url.get_attribute(\"href\") + \"historical-data\") for url in infos]\n",
    "# url1, url2, url3 = chunks(urls, 3)\n",
    "\n",
    "\n",
    "# m1, m2, m3 = parts(len(urls), 3)\n",
    "\n",
    "\n",
    "# merge_browser = [None] * len(urls)\n",
    "# merge_browser[0::3] = m1 * [browser1]\n",
    "# merge_browser[1::3] = m2 * [browser2]\n",
    "# merge_browser[2::3] = m3 * [browser3]\n",
    "\n",
    "\n",
    "# mergedI = list(zip(merge_browser, urls))\n",
    "\n",
    "\n",
    "# pool = ThreadPool(3)\n",
    "# ult_list = pool.starmap(currHistory, mergedI)\n",
    "# pool.close()\n",
    "# pool.join()"
   ]
  }
 ],
 "metadata": {
  "kernelspec": {
   "display_name": "Python 3",
   "language": "python",
   "name": "python3"
  },
  "language_info": {
   "codemirror_mode": {
    "name": "ipython",
    "version": 3
   },
   "file_extension": ".py",
   "mimetype": "text/x-python",
   "name": "python",
   "nbconvert_exporter": "python",
   "pygments_lexer": "ipython3",
   "version": "3.7.2"
  }
 },
 "nbformat": 4,
 "nbformat_minor": 2
}
