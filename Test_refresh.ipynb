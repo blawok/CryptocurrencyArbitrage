{
 "cells": [
  {
   "cell_type": "code",
   "execution_count": null,
   "metadata": {},
   "outputs": [],
   "source": [
    "import pandas as pd\n",
    "from selenium import webdriver \n",
    "from selenium.webdriver.common.by import By \n",
    "from selenium.webdriver.support.ui import WebDriverWait \n",
    "from selenium.webdriver.support import expected_conditions as EC \n",
    "from selenium.common.exceptions import TimeoutException\n",
    "from selenium.webdriver.chrome.options import Options\n",
    "import time, traceback\n",
    "from multiprocessing.dummy import Pool as ThreadPool\n",
    "from multiprocessing import Pool\n",
    "from pathos.multiprocessing import ProcessingPool as Pool2\n",
    "import threading"
   ]
  },
  {
   "cell_type": "code",
   "execution_count": null,
   "metadata": {},
   "outputs": [],
   "source": [
    "def startDriver(file_path):\n",
    "    option = webdriver.ChromeOptions()\n",
    "    option.add_argument(\" — incognito\")\n",
    "    browser = webdriver.Chrome(executable_path=file_path)\n",
    "    browser.get(\"https://coinmarketcap.com/exchanges/bitmax/\")\n",
    "    return browser"
   ]
  },
  {
   "cell_type": "code",
   "execution_count": null,
   "metadata": {},
   "outputs": [],
   "source": [
    "browser = startDriver(\"C:\\\\Users\\\\Michał\\\\GIT\\\\CryptocurrencyArbitrage\\\\chromedriver.exe\")\n"
   ]
  },
  {
   "cell_type": "code",
   "execution_count": null,
   "metadata": {},
   "outputs": [],
   "source": [
    "def getRates(browser):\n",
    "    exchange_lists = []\n",
    "    curr_tab = browser.find_elements_by_xpath('//table[@id=\"exchange-markets\"]/tbody/tr')\n",
    "    for tr in curr_tab:\n",
    "        single_exchange = []\n",
    "        td = tr.find_elements_by_tag_name(\"td\")\n",
    "        for i in range(1,6):\n",
    "            if len(td[i].find_elements_by_class_name(\"price\")) == 0:\n",
    "                single_exchange.append(td[i].get_attribute(\"data-sort\"))\n",
    "            else:\n",
    "                single_exchange.append(td[i].find_element_by_class_name(\"price\").get_attribute(\"data-native\"))\n",
    "                single_exchange.append(td[i].get_attribute(\"data-sort\"))\n",
    "        exchange_lists.append(single_exchange)\n",
    "    df = pd.DataFrame(exchange_lists, columns = [\"Currency\", \"Pair\", \"Volume\", \"Rate\", \"PriceUSD\", \"VolumePerc\"])\n",
    "    df[['Numerator','Denumerator']] = df[\"Pair\"].str.split(\"/\",expand=True,)\n",
    "    \n",
    "    print(\"Scraped\", time.time())"
   ]
  },
  {
   "cell_type": "code",
   "execution_count": null,
   "metadata": {},
   "outputs": [],
   "source": [
    "def refreshRates(delay, task):\n",
    "    next_time = time.time() + delay\n",
    "    while True:\n",
    "        time.sleep(max(0, next_time - time.time()))\n",
    "        try:\n",
    "          task\n",
    "        except Exception:\n",
    "          traceback.print_exc()\n",
    "        next_time += (time.time() - next_time) // delay * delay + delay"
   ]
  },
  {
   "cell_type": "code",
   "execution_count": null,
   "metadata": {},
   "outputs": [],
   "source": [
    "\n",
    "# threading.Thread(target=lambda: refreshRates(5, getRates(browser))).start()"
   ]
  },
  {
   "cell_type": "code",
   "execution_count": null,
   "metadata": {},
   "outputs": [],
   "source": [
    "refreshRates(30, getRates(browser))"
   ]
  },
  {
   "cell_type": "code",
   "execution_count": null,
   "metadata": {},
   "outputs": [],
   "source": []
  }
 ],
 "metadata": {
  "kernelspec": {
   "display_name": "Python 3",
   "language": "python",
   "name": "python3"
  },
  "language_info": {
   "codemirror_mode": {
    "name": "ipython",
    "version": 3
   },
   "file_extension": ".py",
   "mimetype": "text/x-python",
   "name": "python",
   "nbconvert_exporter": "python",
   "pygments_lexer": "ipython3",
   "version": "3.7.2"
  }
 },
 "nbformat": 4,
 "nbformat_minor": 2
}
