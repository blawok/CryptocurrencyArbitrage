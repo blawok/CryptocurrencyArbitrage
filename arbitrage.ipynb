{
 "cells": [
  {
   "cell_type": "code",
   "execution_count": 1,
   "metadata": {},
   "outputs": [],
   "source": [
    "import pandas as pd"
   ]
  },
  {
   "cell_type": "markdown",
   "metadata": {},
   "source": [
    "### Create inverse rates"
   ]
  },
  {
   "cell_type": "code",
   "execution_count": 65,
   "metadata": {},
   "outputs": [],
   "source": [
    "df = pd.read_csv('testData.csv')\n",
    "# append copy of dataframe to create inverse rates\n",
    "df = (df\n",
    "        .append(df)\n",
    "        .drop(columns=['Unnamed: 0'])\n",
    "        .reset_index()\n",
    "     )"
   ]
  },
  {
   "cell_type": "code",
   "execution_count": 66,
   "metadata": {},
   "outputs": [
    {
     "data": {
      "text/plain": [
       "(206, 6)"
      ]
     },
     "execution_count": 66,
     "metadata": {},
     "output_type": "execute_result"
    }
   ],
   "source": [
    "for index in df[103:].index:\n",
    "    # inverse rate\n",
    "    df.loc[index, 'Rate'] = float(1/df.loc[index, 'Rate'])\n",
    "    # create inverse numerator and denumerator names\n",
    "    df.loc[index, 'Numerator1'] = df.loc[index, 'Denumerator']\n",
    "    df.loc[index, 'Denumerator1'] = df.loc[index, 'Numerator']\n",
    "    # reassign numerator and denumerator names\n",
    "    df.loc[index, 'Numerator'] = df.loc[index, 'Numerator1']\n",
    "    df.loc[index, 'Denumerator'] = df.loc[index, 'Denumerator1']\n",
    "\n",
    "df = df.drop(columns=['index', 'Numerator1', 'Denumerator1'])\n",
    "df.head(3)\n",
    "df.shape"
   ]
  },
  {
   "cell_type": "markdown",
   "metadata": {},
   "source": [
    "### Create possible pairs in triangular arbitrage"
   ]
  },
  {
   "cell_type": "code",
   "execution_count": 86,
   "metadata": {},
   "outputs": [
    {
     "data": {
      "text/plain": [
       "120"
      ]
     },
     "execution_count": 86,
     "metadata": {},
     "output_type": "execute_result"
    }
   ],
   "source": [
    "pairList = []\n",
    "# for every denumerator that has BTC as numerator\n",
    "for i in list(df.Denumerator[df['Numerator'] == 'BTC']):\n",
    "    # for every denumerator that has i as numerator\n",
    "    for j in list(set((df.Denumerator[(df['Numerator'] == i) & (df['Numerator'] != 'BTC') & (df['Denumerator'] != 'BTC')]))):\n",
    "        if j in list(df.Denumerator[df['Numerator'] == 'BTC']):\n",
    "            pairList.append([i,j])\n",
    "len(pairList)"
   ]
  },
  {
   "cell_type": "markdown",
   "metadata": {},
   "source": [
    "### Real data arbitrage"
   ]
  },
  {
   "cell_type": "code",
   "execution_count": 118,
   "metadata": {},
   "outputs": [],
   "source": [
    "def triangularArbitrage(inputSet, firstTransaction, secondTransaction):\n",
    "    # first transaction\n",
    "    output1 = inputSet[0]/df.Rate.loc[(df['Numerator'] == inputSet[1]) & (df['Denumerator'] == firstTransaction)].values[0]\n",
    "    \n",
    "    # second transaction\n",
    "    output2 = output1/df.Rate.loc[(df['Numerator'] == firstTransaction) & (df['Denumerator'] == secondTransaction)].values[0]\n",
    "    \n",
    "    # third transaction\n",
    "    output3 = output2/df.Rate.loc[(df['Numerator'] == secondTransaction) & (df['Denumerator'] == inputSet[1])].values[0]\n",
    "    \n",
    "#     if float(output3 - inputSet[0]) > 0:\n",
    "#         print(f'Obtained by {inputSet[1]} > {firstTransaction} > {secondTransaction} > {inputSet[1]}:', float(output3 - inputSet[0]), inputSet[1])\n",
    "    \n",
    "    return float(output3 - inputSet[0])\n",
    "\n",
    "# inputSet = (1, 'BTC')\n",
    "# %time triangularArbitrage(inputSet, 'LTC', 'ETH')"
   ]
  },
  {
   "cell_type": "code",
   "execution_count": 119,
   "metadata": {},
   "outputs": [
    {
     "name": "stdout",
     "output_type": "stream",
     "text": [
      "Obtained: 6835742.05 PLN by 59 separate transactions\n",
      "Wall time: 375 ms\n"
     ]
    }
   ],
   "source": [
    "%%time\n",
    "suma = 0\n",
    "n = 0\n",
    "btcQuantity = 1000\n",
    "for i in pairList:\n",
    "    add = triangularArbitrage((btcQuantity, 'BTC'), i[0], i[1])\n",
    "    if add > 0:\n",
    "        suma += add\n",
    "        btcQuantity += add\n",
    "        n += 1\n",
    "print(f'Obtained: {round(suma * 20143.63, 2)} PLN by {n} separate transactions')"
   ]
  }
 ],
 "metadata": {
  "kernelspec": {
   "display_name": "Python 3",
   "language": "python",
   "name": "python3"
  },
  "language_info": {
   "codemirror_mode": {
    "name": "ipython",
    "version": 3
   },
   "file_extension": ".py",
   "mimetype": "text/x-python",
   "name": "python",
   "nbconvert_exporter": "python",
   "pygments_lexer": "ipython3",
   "version": "3.6.8"
  }
 },
 "nbformat": 4,
 "nbformat_minor": 2
}
