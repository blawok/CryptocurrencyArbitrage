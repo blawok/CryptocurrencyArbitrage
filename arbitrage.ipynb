{
 "cells": [
  {
   "cell_type": "code",
   "execution_count": 1,
   "metadata": {},
   "outputs": [],
   "source": [
    "import pandas as pd"
   ]
  },
  {
   "cell_type": "markdown",
   "metadata": {},
   "source": [
    "### Create inverse rates"
   ]
  },
  {
   "cell_type": "code",
   "execution_count": 48,
   "metadata": {},
   "outputs": [],
   "source": [
    "df = pd.read_csv('testData.csv')\n",
    "# append copy of dataframe to create inverse rates\n",
    "df2 = df.copy()\n",
    "df2.Rate = list(map(lambda x: float(1/x), df2.Rate))\n",
    "df2 = df2.rename(columns={'Numerator':'Denumerator','Denumerator':'Numerator'})\n",
    "\n",
    "df = (df\n",
    "        .append(df2)\n",
    "        .drop(columns=['Unnamed: 0'])\n",
    "        .reset_index()\n",
    "        .drop(columns=['index'])\n",
    "     )"
   ]
  },
  {
   "cell_type": "markdown",
   "metadata": {},
   "source": [
    "### Create possible pairs in triangular arbitrage"
   ]
  },
  {
   "cell_type": "code",
   "execution_count": 10,
   "metadata": {},
   "outputs": [
    {
     "data": {
      "text/plain": [
       "120"
      ]
     },
     "execution_count": 10,
     "metadata": {},
     "output_type": "execute_result"
    }
   ],
   "source": [
    "pairList = []\n",
    "initialCoin = 'BTC'\n",
    "# for every denumerator that has BTC as numerator\n",
    "for i in list(df.Denumerator[df['Numerator'] == initialCoin]):\n",
    "    # for every denumerator that has i as numerator\n",
    "    for j in list(set((df.Denumerator[(df['Numerator'] == i) & (df['Numerator'] != initialCoin) & (df['Denumerator'] != initialCoin)]))):\n",
    "        if j in list(df.Denumerator[df['Numerator'] == initialCoin]):\n",
    "            pairList.append([i,j])\n",
    "len(pairList)"
   ]
  },
  {
   "cell_type": "markdown",
   "metadata": {},
   "source": [
    "### Data preparation function"
   ]
  },
  {
   "cell_type": "code",
   "execution_count": 53,
   "metadata": {},
   "outputs": [],
   "source": [
    "def prepareData(df, initialCoin = 'BTC'):\n",
    "    # INVERSE RATES CREATION\n",
    "    # append copy of dataframe to create inverse rates\n",
    "    df2 = df.copy()\n",
    "    df2.Rate = list(map(lambda x: float(1/x), df2.Rate))\n",
    "    df2 = df2.rename(columns={'Numerator':'Denumerator','Denumerator':'Numerator'})\n",
    "\n",
    "    df = (df\n",
    "            .append(df2)\n",
    "            .drop(columns=['Unnamed: 0'])\n",
    "            .reset_index()\n",
    "            .drop(columns=['index'])\n",
    "         )\n",
    "    \n",
    "    # POSSIBLE PAIRS CREATION\n",
    "    pairList = []\n",
    "    # for every denumerator that has BTC as numerator\n",
    "    for i in list(df.Denumerator[df['Numerator'] == initialCoin]):\n",
    "        # for every denumerator that has i as numerator\n",
    "        for j in list(set((df.Denumerator[(df['Numerator'] == i) & (df['Numerator'] != initialCoin) & (df['Denumerator'] != initialCoin)]))):\n",
    "            if j in list(df.Denumerator[df['Numerator'] == initialCoin]):\n",
    "                pairList.append([i,j])\n",
    "    \n",
    "    return df, pairList"
   ]
  },
  {
   "cell_type": "markdown",
   "metadata": {},
   "source": [
    "### Real data arbitrage"
   ]
  },
  {
   "cell_type": "code",
   "execution_count": 54,
   "metadata": {},
   "outputs": [],
   "source": [
    "def triangularArbitrage(inputSet, firstTransaction, secondTransaction, fee):\n",
    "    # first transaction\n",
    "    output1 = inputSet[0]/df.Rate.loc[(df['Numerator'] == inputSet[1]) & (df['Denumerator'] == firstTransaction)].values[0]\n",
    "    output1 = output1 - fee*output1\n",
    "    \n",
    "    # second transaction\n",
    "    output2 = output1/df.Rate.loc[(df['Numerator'] == firstTransaction) & (df['Denumerator'] == secondTransaction)].values[0]\n",
    "    output2 = output2 - fee*output2\n",
    "    \n",
    "    # third transaction\n",
    "    output3 = output2/df.Rate.loc[(df['Numerator'] == secondTransaction) & (df['Denumerator'] == inputSet[1])].values[0]\n",
    "    output2 = output2 - fee*output2\n",
    "    \n",
    "#     if float(output3 - inputSet[0]) > 0:\n",
    "#         print(f'Obtained by {inputSet[1]} > {firstTransaction} > {secondTransaction} > {inputSet[1]}:', float(output3 - inputSet[0]), inputSet[1])\n",
    "    \n",
    "    return float(output3 - inputSet[0])\n",
    "\n",
    "# inputSet = (1, 'BTC')\n",
    "# %time triangularArbitrage(inputSet, 'LTC', 'ETH', fee = 0.0004)"
   ]
  },
  {
   "cell_type": "code",
   "execution_count": 55,
   "metadata": {},
   "outputs": [
    {
     "name": "stdout",
     "output_type": "stream",
     "text": [
      "Possible initial coins: ['USDT', 'BTC', 'PAX', 'ETH', 'USDC']\n"
     ]
    }
   ],
   "source": [
    "# read data\n",
    "df = pd.read_csv('testData.csv')\n",
    "# transform dataframe\n",
    "initialCoin = 'BTC'\n",
    "df, pairList = prepareData(df, initialCoin = initialCoin)\n",
    "print('Possible initial coins:', list(df[:103].Denumerator.unique()))"
   ]
  },
  {
   "cell_type": "code",
   "execution_count": 56,
   "metadata": {},
   "outputs": [
    {
     "name": "stdout",
     "output_type": "stream",
     "text": [
      "Obtained: 5781.32 PLN by 44 triangular transactions using cummulated BTC asset\n",
      "Wall time: 363 ms\n"
     ]
    }
   ],
   "source": [
    "%%time\n",
    "suma = 0\n",
    "n = 0\n",
    "btcQuantity = 1\n",
    "for i in pairList:\n",
    "    add = triangularArbitrage((btcQuantity, initialCoin), i[0], i[1], fee = 0.0004)\n",
    "    if add > 0:\n",
    "        suma += add\n",
    "        btcQuantity += add\n",
    "        n += 1\n",
    "print(f'Obtained: {round(suma * 20143.63, 2)} PLN by {n} triangular transactions using cummulated {initialCoin} asset')"
   ]
  },
  {
   "cell_type": "code",
   "execution_count": null,
   "metadata": {},
   "outputs": [],
   "source": []
  }
 ],
 "metadata": {
  "kernelspec": {
   "display_name": "Python 3",
   "language": "python",
   "name": "python3"
  },
  "language_info": {
   "codemirror_mode": {
    "name": "ipython",
    "version": 3
   },
   "file_extension": ".py",
   "mimetype": "text/x-python",
   "name": "python",
   "nbconvert_exporter": "python",
   "pygments_lexer": "ipython3",
   "version": "3.6.8"
  }
 },
 "nbformat": 4,
 "nbformat_minor": 2
}
