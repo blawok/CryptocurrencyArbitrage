{
 "cells": [
  {
   "cell_type": "code",
   "execution_count": 1,
   "metadata": {},
   "outputs": [],
   "source": [
    "import pandas as pd\n",
    "from selenium import webdriver \n",
    "from selenium.webdriver.common.by import By \n",
    "from selenium.webdriver.support.ui import WebDriverWait \n",
    "from selenium.webdriver.support import expected_conditions as EC \n",
    "from selenium.common.exceptions import TimeoutException\n",
    "from selenium.webdriver.chrome.options import Options\n",
    "import time, traceback\n",
    "import threading"
   ]
  },
  {
   "cell_type": "markdown",
   "metadata": {},
   "source": [
    "### Create inverse rates"
   ]
  },
  {
   "cell_type": "code",
   "execution_count": 64,
   "metadata": {},
   "outputs": [
    {
     "name": "stdout",
     "output_type": "stream",
     "text": [
      "(103, 7)\n",
      "(206, 6)\n"
     ]
    }
   ],
   "source": [
    "df = pd.read_csv('testData.csv')\n",
    "# append copy of dataframe to create inverse rates\n",
    "df2 = df.copy()\n",
    "df2.Rate = list(map(lambda x: float(1/x), df2.Rate))\n",
    "df2 = df2.rename(columns={'Numerator':'Denumerator','Denumerator':'Numerator'})\n",
    "\n",
    "df = (df\n",
    "        .append(df2)\n",
    "        .drop(columns=['Unnamed: 0'])\n",
    "        .reset_index()\n",
    "        .drop(columns=['index'])\n",
    "     )"
   ]
  },
  {
   "cell_type": "markdown",
   "metadata": {},
   "source": [
    "### Create possible pairs in triangular arbitrage"
   ]
  },
  {
   "cell_type": "code",
   "execution_count": 66,
   "metadata": {},
   "outputs": [],
   "source": [
    "pairList = []\n",
    "initialCoin = 'BTC'\n",
    "# for every denumerator that has BTC as numerator\n",
    "for i in list(df.Denumerator[df['Numerator'] == initialCoin]):\n",
    "    # for every denumerator that has i as numerator\n",
    "    for j in list(set((df.Denumerator[(df['Numerator'] == i) & (df['Numerator'] != initialCoin) & (df['Denumerator'] != initialCoin)]))):\n",
    "        if j in list(df.Denumerator[df['Numerator'] == initialCoin]):\n",
    "            pairList.append([i,j])"
   ]
  },
  {
   "cell_type": "markdown",
   "metadata": {},
   "source": [
    "### Data preparation function"
   ]
  },
  {
   "cell_type": "code",
   "execution_count": 2,
   "metadata": {},
   "outputs": [],
   "source": [
    "def prepareData(df, initialCoin = 'BTC'):\n",
    "    # INVERSE RATES CREATION\n",
    "    # append copy of dataframe to create inverse rates\n",
    "    df2 = df.copy()\n",
    "    df2.Rate = list(map(lambda x: float(1/x), df2.Rate))\n",
    "    df2 = df2.rename(columns={'Numerator':'Denumerator','Denumerator':'Numerator'})\n",
    "\n",
    "    df = (df\n",
    "            .append(df2)\n",
    "            .drop(columns=['Unnamed: 0'])\n",
    "            .reset_index()\n",
    "            .drop(columns=['index'])\n",
    "         )\n",
    "    \n",
    "    # POSSIBLE PAIRS CREATION\n",
    "    pairList = []\n",
    "    # for every denumerator that has BTC as numerator\n",
    "    for i in list(df.Denumerator[df['Numerator'] == initialCoin]):\n",
    "        # for every denumerator that has i as numerator\n",
    "        for j in list(set((df.Denumerator[(df['Numerator'] == i) & (df['Numerator'] != initialCoin) & (df['Denumerator'] != initialCoin)]))):\n",
    "            if j in list(df.Denumerator[df['Numerator'] == initialCoin]):\n",
    "                pairList.append([i,j])\n",
    "    \n",
    "    return df, pairList"
   ]
  },
  {
   "cell_type": "markdown",
   "metadata": {},
   "source": [
    "### Real data arbitrage"
   ]
  },
  {
   "cell_type": "code",
   "execution_count": 8,
   "metadata": {},
   "outputs": [],
   "source": [
    "def triangularArbitrage(df, inputSet, firstTransaction, secondTransaction, fee):\n",
    "    # first transaction\n",
    "    output1 = inputSet[0]/df.Rate.loc[(df['Numerator'] == inputSet[1]) & (df['Denumerator'] == firstTransaction)].values[0]\n",
    "    output1 = output1 - fee*output1\n",
    "    \n",
    "    # second transaction\n",
    "    output2 = output1/df.Rate.loc[(df['Numerator'] == firstTransaction) & (df['Denumerator'] == secondTransaction)].values[0]\n",
    "    output2 = output2 - fee*output2\n",
    "    \n",
    "    # third transaction\n",
    "    output3 = output2/df.Rate.loc[(df['Numerator'] == secondTransaction) & (df['Denumerator'] == inputSet[1])].values[0]\n",
    "    output2 = output2 - fee*output2\n",
    "    \n",
    "#     if float(output3 - inputSet[0]) > 0:\n",
    "#         print(f'Obtained by {inputSet[1]} > {firstTransaction} > {secondTransaction} > {inputSet[1]}:', float(output3 - inputSet[0]), inputSet[1])\n",
    "    \n",
    "    return float(output3 - inputSet[0])\n",
    "\n",
    "# inputSet = (1, 'BTC')\n",
    "# %time triangularArbitrage(inputSet, 'LTC', 'ETH', fee = 0.0004)"
   ]
  },
  {
   "cell_type": "code",
   "execution_count": 90,
   "metadata": {},
   "outputs": [
    {
     "name": "stdout",
     "output_type": "stream",
     "text": [
      "Possible initial coins: ['USDT', 'BTC', 'PAX', 'ETH', 'USDC']\n"
     ]
    }
   ],
   "source": [
    "# read data\n",
    "df = pd.read_csv('testData.csv')\n",
    "# transform dataframe\n",
    "initialCoin = 'USDT'\n",
    "df, pairList = prepareData(df, initialCoin = initialCoin)\n",
    "baseCoins = list(df[:103].Denumerator.unique())\n",
    "print('Possible initial coins:', baseCoins)"
   ]
  },
  {
   "cell_type": "code",
   "execution_count": 94,
   "metadata": {},
   "outputs": [
    {
     "name": "stdout",
     "output_type": "stream",
     "text": [
      "Obtained: 6536.04 PLN by 40 triangular transactions using cummulated USDT asset\n",
      "Obtained: 5781.32 PLN by 45 triangular transactions using cummulated BTC asset\n",
      "Obtained: 317.42 PLN by 5 triangular transactions using cummulated PAX asset\n",
      "Obtained: 3546.26 PLN by 37 triangular transactions using cummulated ETH asset\n",
      "Obtained: 86.73 PLN by 3 triangular transactions using cummulated USDC asset\n",
      "Wall time: 1.82 s\n"
     ]
    }
   ],
   "source": [
    "%%time\n",
    "baseCoins = ['USDT', 'BTC', 'PAX', 'ETH', 'USDC']\n",
    "for coin in baseCoins:\n",
    "    df = pd.read_csv('testData.csv')\n",
    "    df, pairList = prepareData(df, initialCoin = coin)\n",
    "    suma = 0\n",
    "    n = 1\n",
    "    btcQuantity = 1\n",
    "    for i in pairList:\n",
    "        add = triangularArbitrage((btcQuantity, coin), i[0], i[1], fee = 0.0004)\n",
    "        if add > 0:\n",
    "            suma += add\n",
    "            btcQuantity += add\n",
    "            n += 1\n",
    "    print(f'Obtained: {round(suma * 20143.63, 2)} PLN by {n} triangular transactions using cummulated {coin} asset')"
   ]
  },
  {
   "cell_type": "code",
   "execution_count": 9,
   "metadata": {},
   "outputs": [],
   "source": [
    "def findArbitrage():\n",
    "    baseCoins = ['USDT', 'BTC', 'PAX', 'ETH', 'USDC']\n",
    "    for coin in baseCoins:\n",
    "        df = pd.read_csv('testData.csv')\n",
    "        df, pairList = prepareData(df, initialCoin = coin)\n",
    "        suma = 0\n",
    "        n = 1\n",
    "        btcQuantity = 1\n",
    "        for i in pairList:\n",
    "            add = triangularArbitrage(df, (btcQuantity, coin), i[0], i[1], fee = 0.0004)\n",
    "            if add > 0:\n",
    "                suma += add\n",
    "                btcQuantity += add\n",
    "                n += 1\n",
    "        print(f'Obtained: {round(suma * 20143.63, 2)} PLN by {n} triangular transactions using cummulated {coin} asset')"
   ]
  },
  {
   "cell_type": "code",
   "execution_count": 10,
   "metadata": {},
   "outputs": [
    {
     "name": "stdout",
     "output_type": "stream",
     "text": [
      "Obtained: 6536.04 PLN by 40 triangular transactions using cummulated USDT asset\n",
      "Obtained: 5781.32 PLN by 45 triangular transactions using cummulated BTC asset\n",
      "Obtained: 317.42 PLN by 5 triangular transactions using cummulated PAX asset\n",
      "Obtained: 3546.26 PLN by 37 triangular transactions using cummulated ETH asset\n",
      "Obtained: 86.73 PLN by 3 triangular transactions using cummulated USDC asset\n"
     ]
    }
   ],
   "source": [
    "findArbitrage()"
   ]
  },
  {
   "cell_type": "code",
   "execution_count": null,
   "metadata": {},
   "outputs": [],
   "source": []
  },
  {
   "cell_type": "code",
   "execution_count": null,
   "metadata": {},
   "outputs": [],
   "source": []
  },
  {
   "cell_type": "code",
   "execution_count": 20,
   "metadata": {},
   "outputs": [],
   "source": [
    "class Arbitrage:\n",
    "    def __init__(self):\n",
    "        pass\n",
    "#         self.df = pd.read_csv('testData.csv')\n",
    "        \n",
    "    def startDriver(self, file_path):\n",
    "        option = webdriver.ChromeOptions()\n",
    "        option.add_argument(\" — incognito\")\n",
    "        browser = webdriver.Chrome(executable_path=file_path)\n",
    "        browser.get(\"https://coinmarketcap.com/exchanges/bitmax/\")\n",
    "        self.browser = browser\n",
    "        \n",
    "        \n",
    "    def getRates(self):\n",
    "        exchange_lists = []\n",
    "        curr_tab = browser.find_elements_by_xpath('//table[@id=\"exchange-markets\"]/tbody/tr')\n",
    "        for tr in curr_tab:\n",
    "            single_exchange = []\n",
    "            td = tr.find_elements_by_tag_name(\"td\")\n",
    "            for i in range(1,6):\n",
    "                if len(td[i].find_elements_by_class_name(\"price\")) == 0:\n",
    "                    single_exchange.append(td[i].get_attribute(\"data-sort\"))\n",
    "                else:\n",
    "                    single_exchange.append(td[i].find_element_by_class_name(\"price\").get_attribute(\"data-native\"))\n",
    "                    single_exchange.append(td[i].get_attribute(\"data-sort\"))\n",
    "            exchange_lists.append(single_exchange)\n",
    "        df = pd.DataFrame(exchange_lists, columns = [\"Currency\", \"Pair\", \"Volume\", \"Rate\", \"PriceUSD\", \"VolumePerc\"])\n",
    "        df[['Numerator','Denumerator']] = df[\"Pair\"].str.split(\"/\",expand=True,)\n",
    "\n",
    "        return df\n",
    "    \n",
    "    \n",
    "    def prepareData(self, df, initialCoin = 'BTC'):\n",
    "        # INVERSE RATES CREATION\n",
    "        # append copy of dataframe to create inverse rates\n",
    "        df2 = df.copy()\n",
    "        df2.Rate = list(map(lambda x: float(1/x), df2.Rate))\n",
    "        df2 = df2.rename(columns={'Numerator':'Denumerator','Denumerator':'Numerator'})\n",
    "\n",
    "        df = (df\n",
    "                .append(df2)\n",
    "                .drop(columns=['Unnamed: 0'])\n",
    "                .reset_index()\n",
    "                .drop(columns=['index'])\n",
    "             )\n",
    "\n",
    "        # POSSIBLE PAIRS CREATION\n",
    "        pairList = []\n",
    "        # for every denumerator that has BTC as numerator\n",
    "        for i in list(df.Denumerator[df['Numerator'] == initialCoin]):\n",
    "            # for every denumerator that has i as numerator\n",
    "            for j in list(set((df.Denumerator[(df['Numerator'] == i) & (df['Numerator'] != initialCoin) & (df['Denumerator'] != initialCoin)]))):\n",
    "                if j in list(df.Denumerator[df['Numerator'] == initialCoin]):\n",
    "                    pairList.append([i,j])\n",
    "\n",
    "        return df, pairList\n",
    "    \n",
    "    \n",
    "    def triangularArbitrage(self, df, inputSet, firstTransaction, secondTransaction, fee):\n",
    "        # first transaction\n",
    "        output1 = inputSet[0]/df.Rate.loc[(df['Numerator'] == inputSet[1]) & (df['Denumerator'] == firstTransaction)].values[0]\n",
    "        output1 = output1 - fee*output1\n",
    "\n",
    "        # second transaction\n",
    "        output2 = output1/df.Rate.loc[(df['Numerator'] == firstTransaction) & (df['Denumerator'] == secondTransaction)].values[0]\n",
    "        output2 = output2 - fee*output2\n",
    "\n",
    "        # third transaction\n",
    "        output3 = output2/df.Rate.loc[(df['Numerator'] == secondTransaction) & (df['Denumerator'] == inputSet[1])].values[0]\n",
    "        output2 = output2 - fee*output2\n",
    "\n",
    "    #     if float(output3 - inputSet[0]) > 0:\n",
    "    #         print(f'Obtained by {inputSet[1]} > {firstTransaction} > {secondTransaction} > {inputSet[1]}:', float(output3 - inputSet[0]), inputSet[1])\n",
    "\n",
    "        return float(output3 - inputSet[0])\n",
    "    \n",
    "    \n",
    "    def findArbitrage(self):\n",
    "        baseCoins = ['USDT', 'BTC', 'PAX', 'ETH', 'USDC']\n",
    "        for coin in baseCoins:\n",
    "            df = self.df.copy()\n",
    "            df, pairList = self.prepareData(df = df, initialCoin = coin)\n",
    "            suma = 0\n",
    "            n = 1\n",
    "            btcQuantity = 1\n",
    "            for i in pairList:\n",
    "                add = self.triangularArbitrage(df = df, inputSet = (btcQuantity, coin), firstTransaction = i[0], secondTransaction = i[1], fee = 0.0004)\n",
    "                if add > 0:\n",
    "                    suma += add\n",
    "                    btcQuantity += add\n",
    "                    n += 1\n",
    "            print(f'Obtained: {round(suma * 20143.63, 2)} PLN by {n} triangular transactions using cummulated {coin} asset')"
   ]
  },
  {
   "cell_type": "code",
   "execution_count": 21,
   "metadata": {},
   "outputs": [],
   "source": [
    "kA = Arbitrage()"
   ]
  },
  {
   "cell_type": "code",
   "execution_count": 22,
   "metadata": {},
   "outputs": [
    {
     "name": "stdout",
     "output_type": "stream",
     "text": [
      "Obtained: 6536.04 PLN by 40 triangular transactions using cummulated USDT asset\n",
      "Obtained: 5781.32 PLN by 45 triangular transactions using cummulated BTC asset\n",
      "Obtained: 317.42 PLN by 5 triangular transactions using cummulated PAX asset\n",
      "Obtained: 3546.26 PLN by 37 triangular transactions using cummulated ETH asset\n",
      "Obtained: 86.73 PLN by 3 triangular transactions using cummulated USDC asset\n"
     ]
    }
   ],
   "source": [
    "kA.findArbitrage()"
   ]
  }
 ],
 "metadata": {
  "kernelspec": {
   "display_name": "Python 3",
   "language": "python",
   "name": "python3"
  },
  "language_info": {
   "codemirror_mode": {
    "name": "ipython",
    "version": 3
   },
   "file_extension": ".py",
   "mimetype": "text/x-python",
   "name": "python",
   "nbconvert_exporter": "python",
   "pygments_lexer": "ipython3",
   "version": "3.7.2"
  }
 },
 "nbformat": 4,
 "nbformat_minor": 2
}
