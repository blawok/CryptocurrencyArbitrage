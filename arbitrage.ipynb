{
 "cells": [
  {
   "cell_type": "code",
   "execution_count": 1,
   "metadata": {},
   "outputs": [],
   "source": [
    "import pandas as pd"
   ]
  },
  {
   "cell_type": "markdown",
   "metadata": {},
   "source": [
    "### Create inverse rates"
   ]
  },
  {
   "cell_type": "code",
   "execution_count": 127,
   "metadata": {},
   "outputs": [],
   "source": [
    "df = pd.read_csv('testData.csv')\n",
    "# append copy of dataframe to create inverse rates\n",
    "df = (df\n",
    "        .append(df)\n",
    "        .drop(columns=['Unnamed: 0'])\n",
    "        .reset_index()\n",
    "     )"
   ]
  },
  {
   "cell_type": "code",
   "execution_count": 128,
   "metadata": {},
   "outputs": [
    {
     "data": {
      "text/html": [
       "<div>\n",
       "<style scoped>\n",
       "    .dataframe tbody tr th:only-of-type {\n",
       "        vertical-align: middle;\n",
       "    }\n",
       "\n",
       "    .dataframe tbody tr th {\n",
       "        vertical-align: top;\n",
       "    }\n",
       "\n",
       "    .dataframe thead th {\n",
       "        text-align: right;\n",
       "    }\n",
       "</style>\n",
       "<table border=\"1\" class=\"dataframe\">\n",
       "  <thead>\n",
       "    <tr style=\"text-align: right;\">\n",
       "      <th></th>\n",
       "      <th>Currency</th>\n",
       "      <th>Pair</th>\n",
       "      <th>Volume</th>\n",
       "      <th>Rate</th>\n",
       "      <th>Numerator</th>\n",
       "      <th>Denumerator</th>\n",
       "    </tr>\n",
       "  </thead>\n",
       "  <tbody>\n",
       "    <tr>\n",
       "      <th>0</th>\n",
       "      <td>Paxos Standard Token</td>\n",
       "      <td>PAX/USDT</td>\n",
       "      <td>2.508283e+09</td>\n",
       "      <td>1.026300</td>\n",
       "      <td>PAX</td>\n",
       "      <td>USDT</td>\n",
       "    </tr>\n",
       "    <tr>\n",
       "      <th>1</th>\n",
       "      <td>USD Coin</td>\n",
       "      <td>USDC/USDT</td>\n",
       "      <td>1.513212e+09</td>\n",
       "      <td>1.026290</td>\n",
       "      <td>USDC</td>\n",
       "      <td>USDT</td>\n",
       "    </tr>\n",
       "    <tr>\n",
       "      <th>2</th>\n",
       "      <td>BitMax Token</td>\n",
       "      <td>BTMX/USDT</td>\n",
       "      <td>1.500912e+07</td>\n",
       "      <td>0.112087</td>\n",
       "      <td>BTMX</td>\n",
       "      <td>USDT</td>\n",
       "    </tr>\n",
       "  </tbody>\n",
       "</table>\n",
       "</div>"
      ],
      "text/plain": [
       "               Currency       Pair        Volume      Rate Numerator  \\\n",
       "0  Paxos Standard Token   PAX/USDT  2.508283e+09  1.026300       PAX   \n",
       "1              USD Coin  USDC/USDT  1.513212e+09  1.026290      USDC   \n",
       "2          BitMax Token  BTMX/USDT  1.500912e+07  0.112087      BTMX   \n",
       "\n",
       "  Denumerator  \n",
       "0        USDT  \n",
       "1        USDT  \n",
       "2        USDT  "
      ]
     },
     "metadata": {},
     "output_type": "display_data"
    },
    {
     "data": {
      "text/plain": [
       "(206, 6)"
      ]
     },
     "execution_count": 128,
     "metadata": {},
     "output_type": "execute_result"
    }
   ],
   "source": [
    "for index in df[103:].index:\n",
    "    # inverse rate\n",
    "    df.loc[index, 'Rate'] = float(1/df.loc[index, 'Rate'])\n",
    "    \n",
    "    # create inverse numerator and denumerator names\n",
    "    df.loc[index, 'Numerator1'] = df.loc[index, 'Denumerator']\n",
    "    df.loc[index, 'Denumerator1'] = df.loc[index, 'Numerator']\n",
    "    \n",
    "    # reassign numerator and denumerator names\n",
    "    df.loc[index, 'Numerator'] = df.loc[index, 'Numerator1']\n",
    "    df.loc[index, 'Denumerator'] = df.loc[index, 'Denumerator1']\n",
    "\n",
    "df = df.drop(columns=['index', 'Numerator1', 'Denumerator1'])\n",
    "display(df.head(3))\n",
    "df.shape"
   ]
  },
  {
   "cell_type": "markdown",
   "metadata": {},
   "source": [
    "### Create possible pairs in triangular arbitrage"
   ]
  },
  {
   "cell_type": "code",
   "execution_count": 86,
   "metadata": {},
   "outputs": [
    {
     "data": {
      "text/plain": [
       "120"
      ]
     },
     "execution_count": 86,
     "metadata": {},
     "output_type": "execute_result"
    }
   ],
   "source": [
    "pairList = []\n",
    "# for every denumerator that has BTC as numerator\n",
    "for i in list(df.Denumerator[df['Numerator'] == 'BTC']):\n",
    "    # for every denumerator that has i as numerator\n",
    "    for j in list(set((df.Denumerator[(df['Numerator'] == i) & (df['Numerator'] != 'BTC') & (df['Denumerator'] != 'BTC')]))):\n",
    "        if j in list(df.Denumerator[df['Numerator'] == 'BTC']):\n",
    "            pairList.append([i,j])\n",
    "len(pairList)"
   ]
  },
  {
   "cell_type": "markdown",
   "metadata": {},
   "source": [
    "### Data preparation function"
   ]
  },
  {
   "cell_type": "code",
   "execution_count": 2,
   "metadata": {},
   "outputs": [],
   "source": [
    "def prepareData(df):\n",
    "    # INVERSE RATES CREATION\n",
    "    df = (df\n",
    "        .append(df)\n",
    "        .drop(columns=['Unnamed: 0'])\n",
    "        .reset_index()\n",
    "     )\n",
    "    for index in df[103:].index:\n",
    "        # inverse rate\n",
    "        df.loc[index, 'Rate'] = float(1/df.loc[index, 'Rate'])\n",
    "\n",
    "        # create inverse numerator and denumerator names\n",
    "        df.loc[index, 'Numerator1'] = df.loc[index, 'Denumerator']\n",
    "        df.loc[index, 'Denumerator1'] = df.loc[index, 'Numerator']\n",
    "\n",
    "        # reassign numerator and denumerator names\n",
    "        df.loc[index, 'Numerator'] = df.loc[index, 'Numerator1']\n",
    "        df.loc[index, 'Denumerator'] = df.loc[index, 'Denumerator1']\n",
    "\n",
    "    df = df.drop(columns=['index', 'Numerator1', 'Denumerator1'])\n",
    "    \n",
    "    # POSSIBLE PAIRS CREATION\n",
    "    pairList = []\n",
    "    # for every denumerator that has BTC as numerator\n",
    "    for i in list(df.Denumerator[df['Numerator'] == 'BTC']):\n",
    "        # for every denumerator that has i as numerator\n",
    "        for j in list(set((df.Denumerator[(df['Numerator'] == i) & (df['Numerator'] != 'BTC') & (df['Denumerator'] != 'BTC')]))):\n",
    "            if j in list(df.Denumerator[df['Numerator'] == 'BTC']):\n",
    "                pairList.append([i,j])\n",
    "    \n",
    "    return df, pairList"
   ]
  },
  {
   "cell_type": "markdown",
   "metadata": {},
   "source": [
    "### Real data arbitrage"
   ]
  },
  {
   "cell_type": "code",
   "execution_count": 3,
   "metadata": {},
   "outputs": [],
   "source": [
    "def triangularArbitrage(inputSet, firstTransaction, secondTransaction):\n",
    "    fee = 0.0004\n",
    "    # first transaction\n",
    "    output1 = inputSet[0]/df.Rate.loc[(df['Numerator'] == inputSet[1]) & (df['Denumerator'] == firstTransaction)].values[0]\n",
    "    output1 = output1 - fee*output1\n",
    "    \n",
    "    # second transaction\n",
    "    output2 = output1/df.Rate.loc[(df['Numerator'] == firstTransaction) & (df['Denumerator'] == secondTransaction)].values[0]\n",
    "    output2 = output2 - fee*output2\n",
    "    \n",
    "    # third transaction\n",
    "    output3 = output2/df.Rate.loc[(df['Numerator'] == secondTransaction) & (df['Denumerator'] == inputSet[1])].values[0]\n",
    "    output2 = output2 - fee*output2\n",
    "    \n",
    "#     if float(output3 - inputSet[0]) > 0:\n",
    "#         print(f'Obtained by {inputSet[1]} > {firstTransaction} > {secondTransaction} > {inputSet[1]}:', float(output3 - inputSet[0]), inputSet[1])\n",
    "    \n",
    "    return float(output3 - inputSet[0])\n",
    "\n",
    "# inputSet = (1, 'BTC')\n",
    "# %time triangularArbitrage(inputSet, 'LTC', 'ETH')"
   ]
  },
  {
   "cell_type": "code",
   "execution_count": 5,
   "metadata": {},
   "outputs": [
    {
     "name": "stdout",
     "output_type": "stream",
     "text": [
      "Obtained: 5781.32 PLN by 44 triangular transactions using cummulated BTC asset\n",
      "Wall time: 812 ms\n"
     ]
    }
   ],
   "source": [
    "%%time\n",
    "# read data\n",
    "df = pd.read_csv('testData.csv')\n",
    "# transform dataframe\n",
    "df, pairList = prepareData(df)\n",
    "suma = 0\n",
    "n = 0\n",
    "btcQuantity = 1\n",
    "for i in pairList:\n",
    "    add = triangularArbitrage((btcQuantity, 'BTC'), i[0], i[1])\n",
    "    if add > 0:\n",
    "        suma += add\n",
    "        btcQuantity += add\n",
    "        n += 1\n",
    "print(f'Obtained: {round(suma * 20143.63, 2)} PLN by {n} triangular transactions using cummulated BTC asset')"
   ]
  },
  {
   "cell_type": "code",
   "execution_count": null,
   "metadata": {},
   "outputs": [],
   "source": []
  }
 ],
 "metadata": {
  "kernelspec": {
   "display_name": "Python 3",
   "language": "python",
   "name": "python3"
  },
  "language_info": {
   "codemirror_mode": {
    "name": "ipython",
    "version": 3
   },
   "file_extension": ".py",
   "mimetype": "text/x-python",
   "name": "python",
   "nbconvert_exporter": "python",
   "pygments_lexer": "ipython3",
   "version": "3.6.8"
  }
 },
 "nbformat": 4,
 "nbformat_minor": 2
}
