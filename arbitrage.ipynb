{
 "cells": [
  {
   "cell_type": "code",
   "execution_count": 1,
   "metadata": {},
   "outputs": [],
   "source": [
    "import pandas as pd"
   ]
  },
  {
   "cell_type": "code",
   "execution_count": 15,
   "metadata": {},
   "outputs": [
    {
     "data": {
      "text/html": [
       "<div>\n",
       "<style scoped>\n",
       "    .dataframe tbody tr th:only-of-type {\n",
       "        vertical-align: middle;\n",
       "    }\n",
       "\n",
       "    .dataframe tbody tr th {\n",
       "        vertical-align: top;\n",
       "    }\n",
       "\n",
       "    .dataframe thead th {\n",
       "        text-align: right;\n",
       "    }\n",
       "</style>\n",
       "<table border=\"1\" class=\"dataframe\">\n",
       "  <thead>\n",
       "    <tr style=\"text-align: right;\">\n",
       "      <th></th>\n",
       "      <th>pair</th>\n",
       "      <th>rate</th>\n",
       "    </tr>\n",
       "  </thead>\n",
       "  <tbody>\n",
       "    <tr>\n",
       "      <th>0</th>\n",
       "      <td>BTC/ETH</td>\n",
       "      <td>0.01</td>\n",
       "    </tr>\n",
       "    <tr>\n",
       "      <th>1</th>\n",
       "      <td>ETH/LTC</td>\n",
       "      <td>0.05</td>\n",
       "    </tr>\n",
       "    <tr>\n",
       "      <th>2</th>\n",
       "      <td>LTC/BTC</td>\n",
       "      <td>1000.00</td>\n",
       "    </tr>\n",
       "  </tbody>\n",
       "</table>\n",
       "</div>"
      ],
      "text/plain": [
       "      pair     rate\n",
       "0  BTC/ETH     0.01\n",
       "1  ETH/LTC     0.05\n",
       "2  LTC/BTC  1000.00"
      ]
     },
     "execution_count": 15,
     "metadata": {},
     "output_type": "execute_result"
    }
   ],
   "source": [
    "df = pd.DataFrame([['BTC/ETH', 0.01], ['ETH/LTC', 0.05], ['LTC/BTC', 1000]])\n",
    "df.columns = ['pair', 'rate']\n",
    "df"
   ]
  },
  {
   "cell_type": "code",
   "execution_count": 16,
   "metadata": {},
   "outputs": [
    {
     "data": {
      "text/html": [
       "<div>\n",
       "<style scoped>\n",
       "    .dataframe tbody tr th:only-of-type {\n",
       "        vertical-align: middle;\n",
       "    }\n",
       "\n",
       "    .dataframe tbody tr th {\n",
       "        vertical-align: top;\n",
       "    }\n",
       "\n",
       "    .dataframe thead th {\n",
       "        text-align: right;\n",
       "    }\n",
       "</style>\n",
       "<table border=\"1\" class=\"dataframe\">\n",
       "  <thead>\n",
       "    <tr style=\"text-align: right;\">\n",
       "      <th></th>\n",
       "      <th>pair</th>\n",
       "      <th>rate</th>\n",
       "      <th>Numerator</th>\n",
       "      <th>Denumerator</th>\n",
       "    </tr>\n",
       "  </thead>\n",
       "  <tbody>\n",
       "    <tr>\n",
       "      <th>0</th>\n",
       "      <td>BTC/ETH</td>\n",
       "      <td>0.01</td>\n",
       "      <td>BTC</td>\n",
       "      <td>ETH</td>\n",
       "    </tr>\n",
       "    <tr>\n",
       "      <th>1</th>\n",
       "      <td>ETH/LTC</td>\n",
       "      <td>0.05</td>\n",
       "      <td>ETH</td>\n",
       "      <td>LTC</td>\n",
       "    </tr>\n",
       "    <tr>\n",
       "      <th>2</th>\n",
       "      <td>LTC/BTC</td>\n",
       "      <td>1000.00</td>\n",
       "      <td>LTC</td>\n",
       "      <td>BTC</td>\n",
       "    </tr>\n",
       "  </tbody>\n",
       "</table>\n",
       "</div>"
      ],
      "text/plain": [
       "      pair     rate Numerator Denumerator\n",
       "0  BTC/ETH     0.01       BTC         ETH\n",
       "1  ETH/LTC     0.05       ETH         LTC\n",
       "2  LTC/BTC  1000.00       LTC         BTC"
      ]
     },
     "execution_count": 16,
     "metadata": {},
     "output_type": "execute_result"
    }
   ],
   "source": [
    "df[['Numerator','Denumerator']] = df.pair.str.split(\"/\",expand=True,)\n",
    "df"
   ]
  },
  {
   "cell_type": "code",
   "execution_count": 77,
   "metadata": {},
   "outputs": [
    {
     "name": "stdout",
     "output_type": "stream",
     "text": [
      "Obtained by BTC > LTC > ETH > BTC: Series([], Name: rate, dtype: float64) BTC\n"
     ]
    }
   ],
   "source": [
    "def triangularArbitrage(inputSet, firstTransaction, secondTransaction):\n",
    "    # first transaction\n",
    "    rate1 = df.rate.loc[(df['Numerator'] == inputSet[1]) & (df['Denumerator'] == firstTransaction)]\n",
    "    output1 = inputSet[0]/rate1\n",
    "    # second transaction\n",
    "    rate2 = df.rate.loc[(df['Numerator'] == firstTransaction) & (df['Denumerator'] == secondTransaction)]\n",
    "    output2 = output1/rate2\n",
    "    # third transaction\n",
    "    rate3 = df.rate.loc[(df['Numerator'] == secondTransaction) & (df['Denumerator'] == inputSet[1])]\n",
    "    output3 = output2/rate3\n",
    "    print(f'Obtained by {inputSet[1]} > {firstTransaction} > {secondTransaction} > {inputSet[1]}:', output3 - inputSet[0], inputSet[1])\n",
    "\n",
    "\n",
    "inputSet = (1, 'BTC')\n",
    "triangularArbitrage(inputSet, 'LTC', 'ETH')"
   ]
  },
  {
   "cell_type": "code",
   "execution_count": 80,
   "metadata": {},
   "outputs": [
    {
     "name": "stdout",
     "output_type": "stream",
     "text": [
      "ETH LTC\n",
      "LTC ETH\n"
     ]
    }
   ],
   "source": [
    "transactionSets = [['ETH', 'LTC'], ['LTC', 'ETH']]\n",
    "for i in transactionSets:\n",
    "    print(i[0], i[1])\n",
    "#     triangularArbitrage(inputSet, i[0], i[1])"
   ]
  },
  {
   "cell_type": "code",
   "execution_count": null,
   "metadata": {},
   "outputs": [],
   "source": []
  },
  {
   "cell_type": "markdown",
   "metadata": {},
   "source": [
    "### Create inverse rates"
   ]
  },
  {
   "cell_type": "code",
   "execution_count": 134,
   "metadata": {},
   "outputs": [],
   "source": [
    "df = pd.read_csv('testData.csv')\n",
    "df = (df\n",
    "        .append(df)\n",
    "        .drop(columns=['Unnamed: 0'])\n",
    "        .reset_index()\n",
    "     )"
   ]
  },
  {
   "cell_type": "code",
   "execution_count": 135,
   "metadata": {},
   "outputs": [
    {
     "data": {
      "text/html": [
       "<div>\n",
       "<style scoped>\n",
       "    .dataframe tbody tr th:only-of-type {\n",
       "        vertical-align: middle;\n",
       "    }\n",
       "\n",
       "    .dataframe tbody tr th {\n",
       "        vertical-align: top;\n",
       "    }\n",
       "\n",
       "    .dataframe thead th {\n",
       "        text-align: right;\n",
       "    }\n",
       "</style>\n",
       "<table border=\"1\" class=\"dataframe\">\n",
       "  <thead>\n",
       "    <tr style=\"text-align: right;\">\n",
       "      <th></th>\n",
       "      <th>index</th>\n",
       "      <th>Currency</th>\n",
       "      <th>Pair</th>\n",
       "      <th>Volume</th>\n",
       "      <th>Rate</th>\n",
       "      <th>Numerator</th>\n",
       "      <th>Denumerator</th>\n",
       "    </tr>\n",
       "  </thead>\n",
       "  <tbody>\n",
       "    <tr>\n",
       "      <th>103</th>\n",
       "      <td>0</td>\n",
       "      <td>Paxos Standard Token</td>\n",
       "      <td>PAX/USDT</td>\n",
       "      <td>2.508283e+09</td>\n",
       "      <td>1.026300</td>\n",
       "      <td>PAX</td>\n",
       "      <td>USDT</td>\n",
       "    </tr>\n",
       "    <tr>\n",
       "      <th>104</th>\n",
       "      <td>1</td>\n",
       "      <td>USD Coin</td>\n",
       "      <td>USDC/USDT</td>\n",
       "      <td>1.513212e+09</td>\n",
       "      <td>1.026290</td>\n",
       "      <td>USDC</td>\n",
       "      <td>USDT</td>\n",
       "    </tr>\n",
       "    <tr>\n",
       "      <th>105</th>\n",
       "      <td>2</td>\n",
       "      <td>BitMax Token</td>\n",
       "      <td>BTMX/USDT</td>\n",
       "      <td>1.500912e+07</td>\n",
       "      <td>0.112087</td>\n",
       "      <td>BTMX</td>\n",
       "      <td>USDT</td>\n",
       "    </tr>\n",
       "  </tbody>\n",
       "</table>\n",
       "</div>"
      ],
      "text/plain": [
       "     index              Currency       Pair        Volume      Rate Numerator  \\\n",
       "103      0  Paxos Standard Token   PAX/USDT  2.508283e+09  1.026300       PAX   \n",
       "104      1              USD Coin  USDC/USDT  1.513212e+09  1.026290      USDC   \n",
       "105      2          BitMax Token  BTMX/USDT  1.500912e+07  0.112087      BTMX   \n",
       "\n",
       "    Denumerator  \n",
       "103        USDT  \n",
       "104        USDT  \n",
       "105        USDT  "
      ]
     },
     "execution_count": 135,
     "metadata": {},
     "output_type": "execute_result"
    }
   ],
   "source": [
    "df[103:106]"
   ]
  },
  {
   "cell_type": "code",
   "execution_count": 136,
   "metadata": {},
   "outputs": [],
   "source": [
    "for index in df[103:].index:\n",
    "    df.loc[index, 'Rate'] = float(1/df.loc[index, 'Rate'])\n",
    "    \n",
    "    df.loc[index, 'Numerator1'] = df.loc[index, 'Denumerator']\n",
    "    df.loc[index, 'Denumerator1'] = df.loc[index, 'Numerator']\n",
    "   \n",
    "    df.loc[index, 'Numerator'] = df.loc[index, 'Numerator1']\n",
    "    df.loc[index, 'Denumerator'] = df.loc[index, 'Denumerator1']"
   ]
  },
  {
   "cell_type": "code",
   "execution_count": 137,
   "metadata": {},
   "outputs": [
    {
     "data": {
      "text/html": [
       "<div>\n",
       "<style scoped>\n",
       "    .dataframe tbody tr th:only-of-type {\n",
       "        vertical-align: middle;\n",
       "    }\n",
       "\n",
       "    .dataframe tbody tr th {\n",
       "        vertical-align: top;\n",
       "    }\n",
       "\n",
       "    .dataframe thead th {\n",
       "        text-align: right;\n",
       "    }\n",
       "</style>\n",
       "<table border=\"1\" class=\"dataframe\">\n",
       "  <thead>\n",
       "    <tr style=\"text-align: right;\">\n",
       "      <th></th>\n",
       "      <th>Currency</th>\n",
       "      <th>Pair</th>\n",
       "      <th>Volume</th>\n",
       "      <th>Rate</th>\n",
       "      <th>Numerator</th>\n",
       "      <th>Denumerator</th>\n",
       "    </tr>\n",
       "  </thead>\n",
       "  <tbody>\n",
       "    <tr>\n",
       "      <th>0</th>\n",
       "      <td>Paxos Standard Token</td>\n",
       "      <td>PAX/USDT</td>\n",
       "      <td>2.508283e+09</td>\n",
       "      <td>1.026300</td>\n",
       "      <td>PAX</td>\n",
       "      <td>USDT</td>\n",
       "    </tr>\n",
       "    <tr>\n",
       "      <th>1</th>\n",
       "      <td>USD Coin</td>\n",
       "      <td>USDC/USDT</td>\n",
       "      <td>1.513212e+09</td>\n",
       "      <td>1.026290</td>\n",
       "      <td>USDC</td>\n",
       "      <td>USDT</td>\n",
       "    </tr>\n",
       "    <tr>\n",
       "      <th>2</th>\n",
       "      <td>BitMax Token</td>\n",
       "      <td>BTMX/USDT</td>\n",
       "      <td>1.500912e+07</td>\n",
       "      <td>0.112087</td>\n",
       "      <td>BTMX</td>\n",
       "      <td>USDT</td>\n",
       "    </tr>\n",
       "  </tbody>\n",
       "</table>\n",
       "</div>"
      ],
      "text/plain": [
       "               Currency       Pair        Volume      Rate Numerator  \\\n",
       "0  Paxos Standard Token   PAX/USDT  2.508283e+09  1.026300       PAX   \n",
       "1              USD Coin  USDC/USDT  1.513212e+09  1.026290      USDC   \n",
       "2          BitMax Token  BTMX/USDT  1.500912e+07  0.112087      BTMX   \n",
       "\n",
       "  Denumerator  \n",
       "0        USDT  \n",
       "1        USDT  \n",
       "2        USDT  "
      ]
     },
     "execution_count": 137,
     "metadata": {},
     "output_type": "execute_result"
    }
   ],
   "source": [
    "df = df.drop(columns=['index', 'Numerator1', 'Denumerator1'])\n",
    "df.head(3)"
   ]
  },
  {
   "cell_type": "markdown",
   "metadata": {},
   "source": [
    "### Real data arbitrage"
   ]
  },
  {
   "cell_type": "code",
   "execution_count": 142,
   "metadata": {},
   "outputs": [
    {
     "data": {
      "text/plain": [
       "array(['USDT', 'BTC', 'PAX', 'ETH', 'USDC'], dtype=object)"
      ]
     },
     "execution_count": 142,
     "metadata": {},
     "output_type": "execute_result"
    }
   ],
   "source": [
    "df[:103].Denumerator.unique()"
   ]
  },
  {
   "cell_type": "code",
   "execution_count": 143,
   "metadata": {},
   "outputs": [
    {
     "data": {
      "text/plain": [
       "array(['PAX', 'USDC', 'BTMX', 'BTC', 'ETH', 'BNB', 'RNT', 'XTZ', 'CVNT',\n",
       "       'XRP', 'HT', 'QCX', 'ANKR', 'FTM', 'EOS', 'ONT', 'ETZ', 'BCH',\n",
       "       'LAMB', 'NEO', 'COVA', 'BTT', 'LTC', 'LTO', 'BAT', 'CHX', 'KCS',\n",
       "       'AERGO', 'BOLT', 'IOST', 'ETC', 'XLM', 'TRX', 'DOS', 'ZIL',\n",
       "       'BCHSV', 'ZRX', 'ZEC', 'FET', 'ELF', 'LBA', 'ONG', 'GAS'],\n",
       "      dtype=object)"
      ]
     },
     "execution_count": 143,
     "metadata": {},
     "output_type": "execute_result"
    }
   ],
   "source": [
    "df[:103].Numerator.unique()"
   ]
  },
  {
   "cell_type": "code",
   "execution_count": 178,
   "metadata": {},
   "outputs": [
    {
     "name": "stdout",
     "output_type": "stream",
     "text": [
      "Obtained by BTC > LTC > ETH > BTC: 0.0007017640515150081 BTC\n"
     ]
    }
   ],
   "source": [
    "def triangularArbitrage(inputSet, firstTransaction, secondTransaction):\n",
    "    # first transaction\n",
    "    rate1 = df.Rate.loc[(df['Numerator'] == inputSet[1]) & (df['Denumerator'] == firstTransaction)]\n",
    "    output1 = inputSet[0]/rate1\n",
    "    output1 = (output1\n",
    "                   .reset_index()\n",
    "                   .drop(columns = ['index']))\n",
    "    output1 = float(output1.loc[0])\n",
    "    \n",
    "    # second transaction\n",
    "    rate2 = df.Rate.loc[(df['Numerator'] == firstTransaction) & (df['Denumerator'] == secondTransaction)]\n",
    "    output2 = output1/rate2\n",
    "    output2 = (output2\n",
    "                   .reset_index()\n",
    "                   .drop(columns = ['index']))\n",
    "    output2 = float(output2.loc[0])\n",
    "    \n",
    "    # third transaction\n",
    "    rate3 = df.Rate.loc[(df['Numerator'] == secondTransaction) & (df['Denumerator'] == inputSet[1])]\n",
    "    output3 = output2/rate3\n",
    "    output3 = (output3\n",
    "                   .reset_index()\n",
    "                   .drop(columns = ['index']))\n",
    "    output3 = float(output3.loc[0])\n",
    "    \n",
    "    print(f'Obtained by {inputSet[1]} > {firstTransaction} > {secondTransaction} > {inputSet[1]}:', float(output3 - inputSet[0]), inputSet[1])\n",
    "\n",
    "inputSet = (1, 'BTC')\n",
    "triangularArbitrage(inputSet, 'LTC', 'ETH')"
   ]
  },
  {
   "cell_type": "code",
   "execution_count": null,
   "metadata": {},
   "outputs": [],
   "source": []
  },
  {
   "cell_type": "code",
   "execution_count": null,
   "metadata": {},
   "outputs": [],
   "source": []
  }
 ],
 "metadata": {
  "kernelspec": {
   "display_name": "Python 3",
   "language": "python",
   "name": "python3"
  },
  "language_info": {
   "codemirror_mode": {
    "name": "ipython",
    "version": 3
   },
   "file_extension": ".py",
   "mimetype": "text/x-python",
   "name": "python",
   "nbconvert_exporter": "python",
   "pygments_lexer": "ipython3",
   "version": "3.6.8"
  }
 },
 "nbformat": 4,
 "nbformat_minor": 2
}
